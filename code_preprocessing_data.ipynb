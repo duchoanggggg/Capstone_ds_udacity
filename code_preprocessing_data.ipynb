{
  "nbformat": 4,
  "nbformat_minor": 0,
  "metadata": {
    "colab": {
      "provenance": [],
      "collapsed_sections": [
        "Sa9743G-wrBm",
        "PnO7dcrwQesX",
        "7U__D3O4Je2p",
        "IHDNaV4Vo73p",
        "9QmPk9ORon4s",
        "L98kCrsgoqvs"
      ]
    },
    "kernelspec": {
      "name": "python3",
      "display_name": "Python 3"
    },
    "language_info": {
      "name": "python"
    }
  },
  "cells": [
    {
      "cell_type": "code",
      "metadata": {
        "id": "W8EWSRY4va6v"
      },
      "source": [
        "import pandas as pd"
      ],
      "execution_count": null,
      "outputs": []
    },
    {
      "cell_type": "markdown",
      "metadata": {
        "id": "Sa9743G-wrBm"
      },
      "source": [
        "# Get User MBTI\n",
        "From the answers from people joining the survey, we're going to map the results with our MBTI calculating. The cleaned data will contains MBTI type, percentages for each type for each person"
      ]
    },
    {
      "cell_type": "code",
      "metadata": {
        "id": "E1QlFKNZwtCw"
      },
      "source": [
        "colours = pd.read_excel(\"/content/drive/MyDrive/4-Year/Recommender System /data/clean_data/Questionaires.xlsx\",sheet_name = \"Colours\")#.fillna(0)\n",
        "zodiacs = pd.read_excel(\"/content/drive/MyDrive/4-Year/Recommender System /data/clean_data/Questionaires.xlsx\",sheet_name = \"Western_Zodiacs\")#.fillna(0)\n",
        "numbers = pd.read_excel(\"/content/drive/MyDrive/4-Year/Recommender System /data/clean_data/Questionaires.xlsx\",sheet_name = \"Numbers\")#.fillna(0)\n",
        "musical_instruments = pd.read_excel(\"/content/drive/MyDrive/4-Year/Recommender System /data/clean_data/Questionaires.xlsx\",sheet_name = \"Musical_instruments\")#.fillna(0)\n",
        "social_media = pd.read_excel(\"/content/drive/MyDrive/4-Year/Recommender System /data/clean_data/Questionaires.xlsx\",sheet_name = \"Social_media\")#.fillna(0)\n",
        "music_genres = pd.read_excel(\"/content/drive/MyDrive/4-Year/Recommender System /data/clean_data/Questionaires.xlsx\",sheet_name = \"Music_genres\")#.fillna(0)\n",
        "seasons = pd.read_excel(\"/content/drive/MyDrive/4-Year/Recommender System /data/clean_data/Questionaires.xlsx\",sheet_name = \"Seasons\")#.fillna(0)\n",
        "alignments = pd.read_excel(\"/content/drive/MyDrive/4-Year/Recommender System /data/clean_data/Questionaires.xlsx\",sheet_name = \"Alignment\")#.fillna(0)"
      ],
      "execution_count": null,
      "outputs": []
    },
    {
      "cell_type": "code",
      "metadata": {
        "id": "HQZeQi0L3SDG"
      },
      "source": [
        "#User\n",
        "users = pd.read_excel(\"/content/drive/MyDrive/4-Year/Recommender System /data/clean_data/Questionaires.xlsx\",sheet_name = \"User_In4\")\n",
        "ratings = pd.read_excel(\"/content/drive/MyDrive/4-Year/Recommender System /data/clean_data/Questionaires.xlsx\",sheet_name = \"Ratings\")\n",
        "mvs = pd.read_excel(\"/content/drive/MyDrive/4-Year/Recommender System /data/clean_data/Questionaires.xlsx\",sheet_name = \"Movies\")"
      ],
      "execution_count": null,
      "outputs": []
    },
    {
      "cell_type": "code",
      "metadata": {
        "id": "xs_LRx8eEAvl"
      },
      "source": [
        "question_prompt = [\"What is your western zodiac?\",#cung hoàng đạo\n",
        "                  #\"What is your favourite colour?\", # Màu sắc yêu thích\n",
        "                   #\"What nation you want to live in the future?\", #Quốc gia muốn sống trong tương lai\n",
        "                   \"What is you favourite number?\", #Con số ưa thích\n",
        "                   \"What genre of music do you like the best?\", #Thể loại nhạc yêu thích\n",
        "                   \"What is your favourite musical instrument\", #Nhạc cụ yêu thích là gì\n",
        "                   #\"Choose a picture that you like the best.\", #Bức tranh yêu thích, chiếu theo thể loại hình ảnh\n",
        "                   \"What social media community do you like the best?\", #Nền tảng mạng xã hội yêu thích\n",
        "                   \"What is your favourite season?\", # Mùa trong năm yêu thích\n",
        "                   \"If you have a chance to play a role in a movie, what type of character do you want to be?\"# Vai trò nhân vật bạn muốn đóng trong phim\n",
        "                   ]"
      ],
      "execution_count": null,
      "outputs": []
    },
    {
      "cell_type": "markdown",
      "metadata": {
        "id": "PnO7dcrwQesX"
      },
      "source": [
        "## Get User MBTI"
      ]
    },
    {
      "cell_type": "code",
      "metadata": {
        "id": "eU2l2btcZ2LM"
      },
      "source": [
        "data = {    'Zodiacs':zodiacs,\n",
        "            'Colours':colours,\n",
        "            \"Numbers\":numbers,\n",
        "            \"Music_Genres\":music_genres,\n",
        "            \"Musical_instruments\":musical_instruments,\n",
        "            \"Social_Media\":social_media,\n",
        "            \"Seasons\":seasons,\n",
        "            \"Alignments\":alignments\n",
        "        }"
      ],
      "execution_count": null,
      "outputs": []
    },
    {
      "cell_type": "code",
      "metadata": {
        "id": "tyVr_JdsSbV_"
      },
      "source": [
        "def count(asr):\n",
        "  c = []\n",
        "  c.append(str(len(asr[asr.MBTI_E > 60])) + '|' + str(len(asr[asr.MBTI_I > 60])))\n",
        "  c.append(str(len(asr[asr.MBTI_S > 60])) + '|' + str(len(asr[asr.MBTI_N > 60])))\n",
        "  c.append(str(len(asr[asr.MBTI_T > 60])) + '|' + str(len(asr[asr.MBTI_F > 60])))\n",
        "  c.append(str(len(asr[asr.MBTI_J > 60])) + '|' + str(len(asr[asr.MBTI_P > 60])))\n",
        "  return c\n"
      ],
      "execution_count": null,
      "outputs": []
    },
    {
      "cell_type": "code",
      "metadata": {
        "id": "-nIuMuzyRpd4"
      },
      "source": [
        "def compare_MBTI(mbti):\n",
        "  result = []\n",
        "  if mbti.MBTI_E > mbti.MBTI_I:\n",
        "    result.append('E')\n",
        "  elif mbti.MBTI_E < mbti.MBTI_I:\n",
        "    result.append('I')\n",
        "  else:\n",
        "    result.append('X')\n",
        "\n",
        "  if mbti.MBTI_S > mbti.MBTI_N:\n",
        "    result.append('S')\n",
        "  elif mbti.MBTI_S < mbti.MBTI_N:\n",
        "    result.append('N')\n",
        "  else:\n",
        "    result.append('X')\n",
        "\n",
        "  if mbti.MBTI_T > mbti.MBTI_F:\n",
        "    result.append('T')\n",
        "  elif mbti.MBTI_T < mbti.MBTI_F:\n",
        "    result.append('F')\n",
        "  else:\n",
        "    result.append('X')\n",
        "\n",
        "  if mbti.MBTI_J > mbti.MBTI_P:\n",
        "    result.append('J')\n",
        "  elif mbti.MBTI_J < mbti.MBTI_P:\n",
        "    result.append('P')\n",
        "  else:\n",
        "    result.append('X')\n",
        "\n",
        "  result = ''.join(result)\n",
        "  return result"
      ],
      "execution_count": null,
      "outputs": []
    },
    {
      "cell_type": "code",
      "metadata": {
        "id": "BwlhjlrD_z8o"
      },
      "source": [
        "import string\n",
        "def get_MBTI(userID):\n",
        "  answers = pd.DataFrame(columns = ['MBTI_E', 'MBTI_I', 'MBTI_S', 'MBTI_N', 'MBTI_T', 'MBTI_F','MBTI_J', 'MBTI_P'])\n",
        "  features = ['Zodiacs', 'Colours', 'Numbers', 'Seasons', 'Music_Genres','Musical_instruments', 'Social_Media', 'Alignments']\n",
        "  for f in features:\n",
        "    res = users[users.ID == userID][f].values[0]\n",
        "    df = data[f]\n",
        "    awsr = df[df.Name_Vi == res].loc[:,['MBTI_E', 'MBTI_I', 'MBTI_S', 'MBTI_N', 'MBTI_T', 'MBTI_F','MBTI_J', 'MBTI_P']]\n",
        "    answers.loc[answers.shape[0]] = awsr.values[0]\n",
        "  print(answers)\n",
        "  ratio = count(answers)\n",
        "  answers = answers.sum()/8\n",
        "  answers = answers.round()\n",
        "  return answers, ratio"
      ],
      "execution_count": null,
      "outputs": []
    },
    {
      "cell_type": "code",
      "metadata": {
        "id": "kpnehvvzIPSU"
      },
      "source": [
        "MBTIs = pd.DataFrame(columns = ['ID','MBTI_E', 'MBTI_I', 'MBTI_S', 'MBTI_N', 'MBTI_T', 'MBTI_F','MBTI_J', 'MBTI_P','mbti', 'ratio_E_I','ratio_S_N','ratio_T_F','ratio_J_P'])\n",
        "for id in users.ID:\n",
        "  answer, ratio = get_MBTI(id)\n",
        "  mbti = compare_MBTI(answer)\n",
        "  MBTI = [id] + answer.values.tolist() + [mbti] + ratio\n",
        "  MBTIs.loc[MBTIs.shape[0]] = MBTI"
      ],
      "execution_count": null,
      "outputs": []
    },
    {
      "cell_type": "code",
      "metadata": {
        "id": "k3pT-7pgQQTo"
      },
      "source": [
        "MBTIs.to_csv('user_MBTI_only.csv', index = False)"
      ],
      "execution_count": null,
      "outputs": []
    },
    {
      "cell_type": "code",
      "metadata": {
        "id": "GYxn1TtdQP53"
      },
      "source": [
        "df = pd.merge(users, MBTIs, on = 'ID')"
      ],
      "execution_count": null,
      "outputs": []
    },
    {
      "cell_type": "code",
      "metadata": {
        "id": "FLebamRcQP2e"
      },
      "source": [
        "df.to_csv('users_MBTIs.csv', index = False)"
      ],
      "execution_count": null,
      "outputs": []
    },
    {
      "cell_type": "code",
      "metadata": {
        "colab": {
          "base_uri": "https://localhost:8080/"
        },
        "id": "n8idBw8YvME0",
        "outputId": "2ed5e3be-836e-46e1-f2b2-23762876caa1"
      },
      "source": [
        "MBTIs"
      ],
      "execution_count": null,
      "outputs": [
        {
          "output_type": "execute_result",
          "data": {
            "text/html": [
              "<div>\n",
              "<style scoped>\n",
              "    .dataframe tbody tr th:only-of-type {\n",
              "        vertical-align: middle;\n",
              "    }\n",
              "\n",
              "    .dataframe tbody tr th {\n",
              "        vertical-align: top;\n",
              "    }\n",
              "\n",
              "    .dataframe thead th {\n",
              "        text-align: right;\n",
              "    }\n",
              "</style>\n",
              "<table border=\"1\" class=\"dataframe\">\n",
              "  <thead>\n",
              "    <tr style=\"text-align: right;\">\n",
              "      <th></th>\n",
              "      <th>ID</th>\n",
              "      <th>MBTI_E</th>\n",
              "      <th>MBTI_I</th>\n",
              "      <th>MBTI_S</th>\n",
              "      <th>MBTI_N</th>\n",
              "      <th>MBTI_T</th>\n",
              "      <th>MBTI_F</th>\n",
              "      <th>MBTI_J</th>\n",
              "      <th>MBTI_P</th>\n",
              "      <th>mbti</th>\n",
              "      <th>ratio_E_I</th>\n",
              "      <th>ratio_S_N</th>\n",
              "      <th>ratio_T_F</th>\n",
              "      <th>ratio_J_P</th>\n",
              "    </tr>\n",
              "  </thead>\n",
              "  <tbody>\n",
              "    <tr>\n",
              "      <th>0</th>\n",
              "      <td>1</td>\n",
              "      <td>32.0</td>\n",
              "      <td>68.0</td>\n",
              "      <td>37.0</td>\n",
              "      <td>63.0</td>\n",
              "      <td>45.0</td>\n",
              "      <td>55.0</td>\n",
              "      <td>46.0</td>\n",
              "      <td>54.0</td>\n",
              "      <td>INFP</td>\n",
              "      <td>2|6</td>\n",
              "      <td>2|5</td>\n",
              "      <td>3|3</td>\n",
              "      <td>3|4</td>\n",
              "    </tr>\n",
              "    <tr>\n",
              "      <th>1</th>\n",
              "      <td>2</td>\n",
              "      <td>43.0</td>\n",
              "      <td>57.0</td>\n",
              "      <td>24.0</td>\n",
              "      <td>76.0</td>\n",
              "      <td>41.0</td>\n",
              "      <td>59.0</td>\n",
              "      <td>51.0</td>\n",
              "      <td>49.0</td>\n",
              "      <td>INFJ</td>\n",
              "      <td>3|4</td>\n",
              "      <td>1|7</td>\n",
              "      <td>1|3</td>\n",
              "      <td>4|3</td>\n",
              "    </tr>\n",
              "    <tr>\n",
              "      <th>2</th>\n",
              "      <td>3</td>\n",
              "      <td>56.0</td>\n",
              "      <td>44.0</td>\n",
              "      <td>39.0</td>\n",
              "      <td>61.0</td>\n",
              "      <td>33.0</td>\n",
              "      <td>67.0</td>\n",
              "      <td>42.0</td>\n",
              "      <td>58.0</td>\n",
              "      <td>ENFP</td>\n",
              "      <td>4|3</td>\n",
              "      <td>2|5</td>\n",
              "      <td>1|5</td>\n",
              "      <td>3|5</td>\n",
              "    </tr>\n",
              "    <tr>\n",
              "      <th>3</th>\n",
              "      <td>4</td>\n",
              "      <td>46.0</td>\n",
              "      <td>54.0</td>\n",
              "      <td>39.0</td>\n",
              "      <td>61.0</td>\n",
              "      <td>52.0</td>\n",
              "      <td>48.0</td>\n",
              "      <td>45.0</td>\n",
              "      <td>55.0</td>\n",
              "      <td>INTP</td>\n",
              "      <td>3|5</td>\n",
              "      <td>3|5</td>\n",
              "      <td>3|2</td>\n",
              "      <td>3|4</td>\n",
              "    </tr>\n",
              "    <tr>\n",
              "      <th>4</th>\n",
              "      <td>5</td>\n",
              "      <td>39.0</td>\n",
              "      <td>61.0</td>\n",
              "      <td>37.0</td>\n",
              "      <td>63.0</td>\n",
              "      <td>37.0</td>\n",
              "      <td>63.0</td>\n",
              "      <td>46.0</td>\n",
              "      <td>54.0</td>\n",
              "      <td>INFP</td>\n",
              "      <td>3|5</td>\n",
              "      <td>2|5</td>\n",
              "      <td>1|4</td>\n",
              "      <td>3|4</td>\n",
              "    </tr>\n",
              "    <tr>\n",
              "      <th>...</th>\n",
              "      <td>...</td>\n",
              "      <td>...</td>\n",
              "      <td>...</td>\n",
              "      <td>...</td>\n",
              "      <td>...</td>\n",
              "      <td>...</td>\n",
              "      <td>...</td>\n",
              "      <td>...</td>\n",
              "      <td>...</td>\n",
              "      <td>...</td>\n",
              "      <td>...</td>\n",
              "      <td>...</td>\n",
              "      <td>...</td>\n",
              "      <td>...</td>\n",
              "    </tr>\n",
              "    <tr>\n",
              "      <th>85</th>\n",
              "      <td>86</td>\n",
              "      <td>28.0</td>\n",
              "      <td>72.0</td>\n",
              "      <td>24.0</td>\n",
              "      <td>76.0</td>\n",
              "      <td>51.0</td>\n",
              "      <td>49.0</td>\n",
              "      <td>32.0</td>\n",
              "      <td>68.0</td>\n",
              "      <td>INTP</td>\n",
              "      <td>1|6</td>\n",
              "      <td>1|6</td>\n",
              "      <td>3|2</td>\n",
              "      <td>2|5</td>\n",
              "    </tr>\n",
              "    <tr>\n",
              "      <th>86</th>\n",
              "      <td>87</td>\n",
              "      <td>34.0</td>\n",
              "      <td>66.0</td>\n",
              "      <td>32.0</td>\n",
              "      <td>68.0</td>\n",
              "      <td>36.0</td>\n",
              "      <td>64.0</td>\n",
              "      <td>52.0</td>\n",
              "      <td>48.0</td>\n",
              "      <td>INFJ</td>\n",
              "      <td>2|6</td>\n",
              "      <td>2|6</td>\n",
              "      <td>2|4</td>\n",
              "      <td>4|4</td>\n",
              "    </tr>\n",
              "    <tr>\n",
              "      <th>87</th>\n",
              "      <td>88</td>\n",
              "      <td>54.0</td>\n",
              "      <td>46.0</td>\n",
              "      <td>21.0</td>\n",
              "      <td>79.0</td>\n",
              "      <td>33.0</td>\n",
              "      <td>67.0</td>\n",
              "      <td>44.0</td>\n",
              "      <td>56.0</td>\n",
              "      <td>ENFP</td>\n",
              "      <td>4|3</td>\n",
              "      <td>0|6</td>\n",
              "      <td>1|5</td>\n",
              "      <td>3|4</td>\n",
              "    </tr>\n",
              "    <tr>\n",
              "      <th>88</th>\n",
              "      <td>89</td>\n",
              "      <td>20.0</td>\n",
              "      <td>80.0</td>\n",
              "      <td>15.0</td>\n",
              "      <td>85.0</td>\n",
              "      <td>48.0</td>\n",
              "      <td>52.0</td>\n",
              "      <td>55.0</td>\n",
              "      <td>45.0</td>\n",
              "      <td>INFJ</td>\n",
              "      <td>1|7</td>\n",
              "      <td>0|7</td>\n",
              "      <td>3|2</td>\n",
              "      <td>4|2</td>\n",
              "    </tr>\n",
              "    <tr>\n",
              "      <th>89</th>\n",
              "      <td>90</td>\n",
              "      <td>37.0</td>\n",
              "      <td>63.0</td>\n",
              "      <td>41.0</td>\n",
              "      <td>59.0</td>\n",
              "      <td>37.0</td>\n",
              "      <td>63.0</td>\n",
              "      <td>50.0</td>\n",
              "      <td>50.0</td>\n",
              "      <td>INFX</td>\n",
              "      <td>2|5</td>\n",
              "      <td>3|5</td>\n",
              "      <td>2|4</td>\n",
              "      <td>3|4</td>\n",
              "    </tr>\n",
              "  </tbody>\n",
              "</table>\n",
              "<p>90 rows × 14 columns</p>\n",
              "</div>"
            ],
            "text/plain": [
              "    ID  MBTI_E  MBTI_I  MBTI_S  ...  ratio_E_I  ratio_S_N  ratio_T_F  ratio_J_P\n",
              "0    1    32.0    68.0    37.0  ...        2|6        2|5        3|3        3|4\n",
              "1    2    43.0    57.0    24.0  ...        3|4        1|7        1|3        4|3\n",
              "2    3    56.0    44.0    39.0  ...        4|3        2|5        1|5        3|5\n",
              "3    4    46.0    54.0    39.0  ...        3|5        3|5        3|2        3|4\n",
              "4    5    39.0    61.0    37.0  ...        3|5        2|5        1|4        3|4\n",
              "..  ..     ...     ...     ...  ...        ...        ...        ...        ...\n",
              "85  86    28.0    72.0    24.0  ...        1|6        1|6        3|2        2|5\n",
              "86  87    34.0    66.0    32.0  ...        2|6        2|6        2|4        4|4\n",
              "87  88    54.0    46.0    21.0  ...        4|3        0|6        1|5        3|4\n",
              "88  89    20.0    80.0    15.0  ...        1|7        0|7        3|2        4|2\n",
              "89  90    37.0    63.0    41.0  ...        2|5        3|5        2|4        3|4\n",
              "\n",
              "[90 rows x 14 columns]"
            ]
          },
          "metadata": {},
          "execution_count": 176
        }
      ]
    },
    {
      "cell_type": "markdown",
      "metadata": {
        "id": "7U__D3O4Je2p"
      },
      "source": [
        "# Ratings preprocessing\n",
        "- Remove nan datapoints"
      ]
    },
    {
      "cell_type": "code",
      "metadata": {
        "id": "6gVrrq2qJiJ5"
      },
      "source": [
        "#Deleted userID = 45\n",
        "ratings = pd.read_excel(\"/content/drive/MyDrive/4-Year/Recommender System /data/clean_data/Questionaires.xlsx\",sheet_name = \"Ratings\").iloc[1:,:]"
      ],
      "execution_count": null,
      "outputs": []
    },
    {
      "cell_type": "code",
      "metadata": {
        "id": "Ryob27DxJiHX"
      },
      "source": [
        "rtg = ratings.set_index('ID')"
      ],
      "execution_count": null,
      "outputs": []
    },
    {
      "cell_type": "code",
      "metadata": {
        "colab": {
          "base_uri": "https://localhost:8080/"
        },
        "id": "xHnjcQY3JiEr",
        "outputId": "d4466a65-4ee6-4cfb-9144-f48a4389a0bf"
      },
      "source": [
        "rtg.index"
      ],
      "execution_count": null,
      "outputs": [
        {
          "output_type": "execute_result",
          "data": {
            "text/plain": [
              "Int64Index([ 1,  2,  3,  4,  5,  6,  7,  8,  9, 10, 11, 12, 13, 14, 15, 16, 17,\n",
              "            18, 19, 20, 21, 22, 23, 24, 25, 26, 27, 28, 29, 30, 31, 32, 33, 34,\n",
              "            35, 36, 37, 38, 39, 40, 41, 42, 43, 44, 45, 46, 47, 48, 49, 50, 51,\n",
              "            52, 53, 54, 55, 56, 57, 58, 59, 60, 61, 62, 63, 64, 65, 66, 67, 68,\n",
              "            69, 70, 71, 72, 73, 74, 75, 76, 77, 78, 79, 80, 81, 82, 83, 84, 85,\n",
              "            86, 87, 88, 89, 90],\n",
              "           dtype='int64', name='ID')"
            ]
          },
          "metadata": {},
          "execution_count": 20
        }
      ]
    },
    {
      "cell_type": "code",
      "metadata": {
        "id": "Wg-Z5TRZJiCn"
      },
      "source": [
        "count0 = 0\n",
        "for i in range(1,90):\n",
        "  for j in range(1,20):\n",
        "    if rtg.iloc[i,j] == 0 :\n",
        "      count0 += 1\n"
      ],
      "execution_count": null,
      "outputs": []
    },
    {
      "cell_type": "code",
      "metadata": {
        "colab": {
          "base_uri": "https://localhost:8080/"
        },
        "id": "KnmUAi4jJh_3",
        "outputId": "1d92545f-4628-4658-a871-ba7c43cb0b36"
      },
      "source": [
        "count0"
      ],
      "execution_count": null,
      "outputs": [
        {
          "output_type": "execute_result",
          "data": {
            "text/plain": [
              "347"
            ]
          },
          "metadata": {},
          "execution_count": 210
        }
      ]
    },
    {
      "cell_type": "markdown",
      "metadata": {
        "id": "IHDNaV4Vo73p"
      },
      "source": [
        "# Creating Test data\n",
        "1. Masking 180 ratings for existed user-based collaborated filtering\n",
        "2. Get 9 user for testing cold start"
      ]
    },
    {
      "cell_type": "markdown",
      "source": [
        "## Masking for 1"
      ],
      "metadata": {
        "id": "9QmPk9ORon4s"
      }
    },
    {
      "cell_type": "code",
      "metadata": {
        "id": "PRJiXo23o-tk"
      },
      "source": [
        "import numpy as np"
      ],
      "execution_count": null,
      "outputs": []
    },
    {
      "cell_type": "code",
      "metadata": {
        "id": "dZuzXzEKo-rA"
      },
      "source": [
        "from numpy.random import random_integers as rnd_int"
      ],
      "execution_count": null,
      "outputs": []
    },
    {
      "cell_type": "code",
      "metadata": {
        "colab": {
          "base_uri": "https://localhost:8080/"
        },
        "id": "OH3qU6dPo-oo",
        "outputId": "b4360bd2-5cfb-4fae-f3b2-11290e2cba5b"
      },
      "source": [
        "sample = []\n",
        "true_idx = []\n",
        "rtg_ = rtg.copy()\n",
        "true_rtg = []\n",
        "count = 0\n",
        "for i in range(200):\n",
        "  s = (rnd_int(90), rnd_int(20))\n",
        "  if s not in sample :\n",
        "    if  count < 180:\n",
        "      sample.append(s)\n",
        "      count += 1\n",
        "    else:\n",
        "      break"
      ],
      "execution_count": null,
      "outputs": [
        {
          "output_type": "stream",
          "name": "stderr",
          "text": [
            "/usr/local/lib/python3.7/dist-packages/ipykernel_launcher.py:7: DeprecationWarning: This function is deprecated. Please call randint(1, 90 + 1) instead\n",
            "  import sys\n",
            "/usr/local/lib/python3.7/dist-packages/ipykernel_launcher.py:7: DeprecationWarning: This function is deprecated. Please call randint(1, 20 + 1) instead\n",
            "  import sys\n"
          ]
        }
      ]
    },
    {
      "cell_type": "code",
      "metadata": {
        "id": "2J4ZFlldrbAV"
      },
      "source": [
        "rtg_ = rtg.copy()\n",
        "count = 0\n",
        "true = pd.DataFrame(columns = ['user_ID','mv_ID','Rating'])\n",
        "for s in sample:\n",
        "  true_rating = rtg_.loc[s[0],s[1]]\n",
        "  true.loc[true.shape[0]] = [s[0],s[1],true_rating]\n",
        "  #masking\n",
        "  rtg_.loc[s[0],s[1]] = -1"
      ],
      "execution_count": null,
      "outputs": []
    },
    {
      "cell_type": "code",
      "source": [
        "true.to_csv('/content/drive/MyDrive/4-Year/Recommender System /data/clean_data/True_1.csv', index = False)"
      ],
      "metadata": {
        "id": "ba86qqZyjYuE"
      },
      "execution_count": null,
      "outputs": []
    },
    {
      "cell_type": "code",
      "metadata": {
        "colab": {
          "base_uri": "https://localhost:8080/"
        },
        "id": "LZCYzHWPtL5s",
        "outputId": "b6b95cd5-d420-40f5-a922-3f42c6d8ed4c"
      },
      "source": [
        "count1 = 0\n",
        "for i in range(0,90):\n",
        "  for j in range(0,20):\n",
        "    if rtg_.iloc[i,j] == -1 :\n",
        "      count1 += 1\n",
        "count1"
      ],
      "execution_count": null,
      "outputs": [
        {
          "output_type": "execute_result",
          "data": {
            "text/plain": [
              "180"
            ]
          },
          "metadata": {},
          "execution_count": 49
        }
      ]
    },
    {
      "cell_type": "code",
      "metadata": {
        "id": "L1U7S71Qtgzu"
      },
      "source": [
        "rtg_.to_csv('/content/drive/MyDrive/4-Year/Recommender System /data/clean_data/Ratings_1_train.csv')"
      ],
      "execution_count": null,
      "outputs": []
    },
    {
      "cell_type": "markdown",
      "source": [
        "## Masking for 2."
      ],
      "metadata": {
        "id": "L98kCrsgoqvs"
      }
    },
    {
      "cell_type": "code",
      "source": [
        "rtg_2 = rtg.copy()"
      ],
      "metadata": {
        "id": "YFcbAHHqo5MK"
      },
      "execution_count": null,
      "outputs": []
    },
    {
      "cell_type": "code",
      "source": [
        "from numpy.random import default_rng\n",
        "\n",
        "rng = default_rng()\n",
        "numbers = rng.choice(90, size=9, replace=False)\n",
        "numbers"
      ],
      "metadata": {
        "colab": {
          "base_uri": "https://localhost:8080/"
        },
        "id": "ObBNQh42o44L",
        "outputId": "e08146a5-95a3-4279-d007-90b7974cc9e0"
      },
      "execution_count": null,
      "outputs": [
        {
          "output_type": "execute_result",
          "data": {
            "text/plain": [
              "array([64, 23, 62, 45, 56, 65, 41, 87, 25])"
            ]
          },
          "metadata": {},
          "execution_count": 58
        }
      ]
    },
    {
      "cell_type": "code",
      "source": [
        "ID_user = []\n",
        "#Random 9 users for test\n",
        "test_2 = pd.DataFrame(columns = rtg_2.columns)\n",
        "for i in numbers:\n",
        "  ID_user.append(i)\n",
        "  test_2.loc[test_2.shape[0]] = rtg_2.loc[i,:]"
      ],
      "metadata": {
        "id": "z8po-amUpsg-"
      },
      "execution_count": null,
      "outputs": []
    },
    {
      "cell_type": "code",
      "source": [
        "test_2['ID'] = ID_user"
      ],
      "metadata": {
        "id": "iIfEY7A-qIsr"
      },
      "execution_count": null,
      "outputs": []
    },
    {
      "cell_type": "code",
      "source": [
        "test_2 = test_2.set_index('ID')"
      ],
      "metadata": {
        "id": "fkHvZkIwqvPV"
      },
      "execution_count": null,
      "outputs": []
    },
    {
      "cell_type": "code",
      "source": [
        "test_2.to_csv('/content/drive/MyDrive/4-Year/Recommender System /data/clean_data/True_2.csv')"
      ],
      "metadata": {
        "id": "eIyp5uwYq5Zp"
      },
      "execution_count": null,
      "outputs": []
    },
    {
      "cell_type": "code",
      "source": [
        "rtg_2_train = rtg_2.drop(numbers)"
      ],
      "metadata": {
        "id": "JdQ-oyr9rDFb"
      },
      "execution_count": null,
      "outputs": []
    },
    {
      "cell_type": "code",
      "source": [
        "rtg_2_train.to_csv('/content/drive/MyDrive/4-Year/Recommender System /data/clean_data/Ratings_2_train.csv')"
      ],
      "metadata": {
        "id": "d3Dr9qZtrWGz"
      },
      "execution_count": null,
      "outputs": []
    }
  ]
}