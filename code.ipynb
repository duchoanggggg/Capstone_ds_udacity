{
  "nbformat": 4,
  "nbformat_minor": 0,
  "metadata": {
    "colab": {
      "name": "code.ipynb",
      "provenance": [],
      "collapsed_sections": [
        "L6-Gg6dIzSqj",
        "2zX9schvcHHv",
        "Vjr8xwwN4ZgE",
        "X95xA_jqZ04M"
      ]
    },
    "kernelspec": {
      "name": "python3",
      "display_name": "Python 3"
    },
    "language_info": {
      "name": "python"
    }
  },
  "cells": [
    {
      "cell_type": "code",
      "source": [
        "import pandas as pd\n",
        "import matplotlib.pyplot as plt\n",
        "from matplotlib.pyplot import figure\n",
        "from statistics import mean\n",
        "from sklearn.metrics import mean_absolute_error as MAE\n",
        "import numpy as np\n",
        "from sklearn.metrics.pairwise import cosine_similarity"
      ],
      "metadata": {
        "id": "SqGdJywYw3Su"
      },
      "execution_count": null,
      "outputs": []
    },
    {
      "cell_type": "markdown",
      "source": [
        "# Historical Users\n"
      ],
      "metadata": {
        "id": "ponYv0JivBMR"
      }
    },
    {
      "cell_type": "code",
      "source": [
        "users = pd.read_csv('data/user_MBTI.csv')\n",
        "ratings = pd.read_csv('data/trrain_historical_ratings.csv')"
      ],
      "metadata": {
        "id": "ljezQ2c_wKjL"
      },
      "execution_count": null,
      "outputs": []
    },
    {
      "cell_type": "markdown",
      "source": [
        "## 1. MBTI only + preferences"
      ],
      "metadata": {
        "id": "L6-Gg6dIzSqj"
      }
    },
    {
      "cell_type": "code",
      "source": [
        "users.columns"
      ],
      "metadata": {
        "colab": {
          "base_uri": "https://localhost:8080/"
        },
        "id": "yGB1028JJ0bu",
        "outputId": "48c99d7a-ee19-46db-9e6f-8790871a1dc8"
      },
      "execution_count": null,
      "outputs": [
        {
          "output_type": "execute_result",
          "data": {
            "text/plain": [
              "Index(['ID', 'Zodiacs', 'Colours', 'Numbers', 'Seasons', 'Music_Genres',\n",
              "       'Musical_instruments', 'Social_Media', 'Alignments', 'Genre_1',\n",
              "       'Genre_2', 'Genre_3', 'Genre_4', 'Genre_5', 'Genre_6', 'MBTI_E',\n",
              "       'MBTI_I', 'MBTI_S', 'MBTI_N', 'MBTI_T', 'MBTI_F', 'MBTI_J', 'MBTI_P',\n",
              "       'off_mbti'],\n",
              "      dtype='object')"
            ]
          },
          "metadata": {},
          "execution_count": 5
        }
      ]
    },
    {
      "cell_type": "code",
      "source": [
        "df_train = pd.merge(users, ratings, on = 'ID').drop(['Genre_1','Genre_2', 'Genre_3', 'Genre_4', 'Genre_5', 'Genre_6', 'MBTI_E', 'MBTI_I',\n",
        "       'MBTI_S', 'MBTI_N', 'MBTI_T', 'MBTI_F', 'MBTI_J', 'MBTI_P'],axis = 1).set_index('ID')"
      ],
      "metadata": {
        "id": "qDjm_hMlcPGT"
      },
      "execution_count": null,
      "outputs": []
    },
    {
      "cell_type": "code",
      "source": [
        "one_hot_columns = ['Zodiacs', 'Colours', 'Numbers', 'Seasons', 'Music_Genres',\n",
        "       'Musical_instruments', 'Social_Media', 'Alignments']"
      ],
      "metadata": {
        "id": "2CeDjxfBagg3"
      },
      "execution_count": null,
      "outputs": []
    },
    {
      "cell_type": "code",
      "source": [
        "for ele in one_hot_columns:\n",
        "  # Get one hot encoding of columns B\n",
        "  one_hot = pd.get_dummies(df_train[ele],prefix = 'dum_')\n",
        "  # Drop column B as it is now encoded\n",
        "  df_train = df_train.drop(ele,axis = 1)\n",
        "  # Join the encoded df\n",
        "  df_train = df_train.join(one_hot)"
      ],
      "metadata": {
        "id": "T2k3mz7Be3le"
      },
      "execution_count": null,
      "outputs": []
    },
    {
      "cell_type": "code",
      "source": [
        "#Process off_mbti\n",
        "one_hot = pd.get_dummies(df_train['off_mbti'])\n",
        "# Join the encoded df\n",
        "df_train = df_train.join(one_hot)"
      ],
      "metadata": {
        "id": "54v7EonjkB9-"
      },
      "execution_count": null,
      "outputs": []
    },
    {
      "cell_type": "code",
      "source": [
        "df_sim = df_train.drop(['1', '2', '3', '4', '5', '6', '7', '8', '9', '10', '11',\n",
        "       '12', '13', '14', '15', '16', '17', '18', '19', '20'],axis = 1)"
      ],
      "metadata": {
        "id": "1Hxxqdmuk4fj"
      },
      "execution_count": null,
      "outputs": []
    },
    {
      "cell_type": "code",
      "source": [
        "# Cosine similarity\n",
        "def cos_sim(user1_id, user2_id):\n",
        "  drop_col = ['off_mbti'] +[str(i) for i in range(1,21)]\n",
        "  user1 = df_train.drop(drop_col, axis = 1).loc[user1_id,:].values.reshape(1, -1)\n",
        "  user2 = df_train.drop(drop_col, axis = 1).loc[user2_id,:].values.reshape(1, -1)\n",
        "  sim = cosine_similarity(user1,user2)[0][0]\n",
        "  return sim\n",
        "\n",
        "#Không lấy topN do dữ liệu nhỏ\n",
        "def get_topN_user(user,mvID):\n",
        "  # Ignore ratings == 0\n",
        "  mbti_user = df_train.loc[user,'off_mbti']\n",
        "  sim = df_train[(df_train.off_mbti == mbti_user)]#(df_sim[str(mvID)] != -1) & (df_sim[str(mvID)] != 0)].drop('off_mbti', axis = 1)\n",
        "  drop_col = ['off_mbti'] +[str(i) for i in range(1,21)]\n",
        "  sim = sim[(sim[str(mvID)] != -1) & (sim[str(mvID)] != 0)].drop(drop_col, axis = 1)\n",
        "  urs = sim.index.to_list()\n",
        "  # chọn những user có chung nhóm MBTI tương ứng với loại bỏ cos_sim == 0\n",
        "  scores = [(cos_sim(user, userID),userID) for userID in urs if userID != user] \n",
        "  return scores\n",
        "\n",
        "def get_rating(userid, movieid):\n",
        "  return(df_train.loc[userid,str(movieid)])\n",
        "\n",
        "def pred_rating(user, mvID):\n",
        "  sum_ = 0\n",
        "  sum_sim = 0\n",
        "  sim_users = get_topN_user(user,mvID)\n",
        "  count0 = 0\n",
        "  if len(sim_users) != 0:\n",
        "    for score,userID in sim_users:\n",
        "      sum_ += score\n",
        "      sum_sim += score*get_rating(userID,mvID)\n",
        "    print(sum)\n",
        "    rate = (1/sum_)*sum_sim\n",
        "    return rate\n",
        "  else:\n",
        "    return 'nan'\n"
      ],
      "metadata": {
        "id": "2CksSGebe3ge"
      },
      "execution_count": null,
      "outputs": []
    },
    {
      "cell_type": "code",
      "source": [
        "df_true = pd.read_csv('data/true_historical_ratings.csv')"
      ],
      "metadata": {
        "id": "VAqGvid4nv1h"
      },
      "execution_count": null,
      "outputs": []
    },
    {
      "cell_type": "code",
      "source": [
        "pred = []\n",
        "true = []\n",
        "u_id = []\n",
        "mv_id= []\n",
        "user = users.copy().set_index('ID')\n",
        "for i in range(len(df_true)):\n",
        "  r = pred_rating(df_true.user_ID[i],df_true.mv_ID[i])\n",
        "  pred.append(r)\n",
        "  true.append(df_true.Rating[i])\n",
        "  u_id.append(df_true.user_ID[i])\n",
        "  mv_id.append(df_true.mv_ID[i])"
      ],
      "metadata": {
        "id": "hkBxLS0Jnvvj"
      },
      "execution_count": null,
      "outputs": []
    },
    {
      "cell_type": "code",
      "source": [
        "result = pd.DataFrame()\n",
        "result['UserID']  = u_id\n",
        "result['MvID']    = mv_id\n",
        "result['True']    = true\n",
        "result['Pred']    = pred"
      ],
      "metadata": {
        "id": "fBrzKQOTnvm4"
      },
      "execution_count": null,
      "outputs": []
    },
    {
      "cell_type": "code",
      "source": [
        "# Evaluating\n",
        "true = result[result.Pred != 'nan']['True']\n",
        "pred = result[result.Pred != 'nan'].Pred \n",
        "\n",
        "MAE_mbti_gr = MAE(true, pred)\n",
        "print('MAE using MBTI+ Movies preferences rating predict: ', MAE_mbti_gr)"
      ],
      "metadata": {
        "colab": {
          "base_uri": "https://localhost:8080/"
        },
        "id": "PBeC7t_qnvYJ",
        "outputId": "91ce78d5-de45-4537-ed3d-701260a8f300"
      },
      "execution_count": null,
      "outputs": [
        {
          "output_type": "stream",
          "name": "stdout",
          "text": [
            "MAE using MBTI+ Movies preferences rating predict:  2.1236736575848454\n"
          ]
        }
      ]
    },
    {
      "cell_type": "markdown",
      "source": [
        "## 2. Ratings only"
      ],
      "metadata": {
        "id": "X95xA_jqZ04M"
      }
    },
    {
      "cell_type": "code",
      "source": [
        "df_train.columns[1:20]"
      ],
      "metadata": {
        "colab": {
          "base_uri": "https://localhost:8080/"
        },
        "id": "Pz3O8c3q66pB",
        "outputId": "0b3da785-a383-4edc-e456-15d8f153920c"
      },
      "execution_count": null,
      "outputs": [
        {
          "output_type": "execute_result",
          "data": {
            "text/plain": [
              "Index(['off_mbti', '1', '2', '3', '4', '5', '6', '7', '8', '9', '10', '11',\n",
              "       '12', '13', '14', '15', '16', '17', '18', '19'],\n",
              "      dtype='object')"
            ]
          },
          "metadata": {},
          "execution_count": 188
        }
      ]
    },
    {
      "cell_type": "code",
      "source": [
        "def rating_cos_sim(user1,user2):\n",
        "  cmmn_mv = [] #movies in common\n",
        "  for movieid in df_train.columns[1:20]:\n",
        "    if rating_get_rating(user1, movieid) !=-1 and rating_get_rating(user2,movieid) != -1 and rating_get_rating(user1, movieid) != 0 and rating_get_rating(user2,movieid) != 0:\n",
        "      cmmn_mv.append(movieid)\n",
        "  if len(cmmn_mv) == 0:\n",
        "      return 0\n",
        "  \n",
        "  rating_user1 = np.array([rating_get_rating(user1, movieid) for movieid in cmmn_mv]).reshape(1, -1) #vertical -> horizontal\n",
        "  rating_user2 = np.array([rating_get_rating(user2, movieid) for movieid in cmmn_mv]).reshape(1, -1)\n",
        "  score = cosine_similarity(rating_user1, rating_user2)\n",
        "  return score[0][0]"
      ],
      "metadata": {
        "id": "2CsmCIBDU1s5"
      },
      "execution_count": null,
      "outputs": []
    },
    {
      "cell_type": "code",
      "source": [
        "ratings"
      ],
      "metadata": {
        "colab": {
          "base_uri": "https://localhost:8080/",
          "height": 423
        },
        "id": "KgfijloBDeFz",
        "outputId": "78412012-9a19-452a-ec11-b217ad88ea31"
      },
      "execution_count": null,
      "outputs": [
        {
          "output_type": "execute_result",
          "data": {
            "text/html": [
              "<div>\n",
              "<style scoped>\n",
              "    .dataframe tbody tr th:only-of-type {\n",
              "        vertical-align: middle;\n",
              "    }\n",
              "\n",
              "    .dataframe tbody tr th {\n",
              "        vertical-align: top;\n",
              "    }\n",
              "\n",
              "    .dataframe thead th {\n",
              "        text-align: right;\n",
              "    }\n",
              "</style>\n",
              "<table border=\"1\" class=\"dataframe\">\n",
              "  <thead>\n",
              "    <tr style=\"text-align: right;\">\n",
              "      <th></th>\n",
              "      <th>ID</th>\n",
              "      <th>1</th>\n",
              "      <th>2</th>\n",
              "      <th>3</th>\n",
              "      <th>4</th>\n",
              "      <th>5</th>\n",
              "      <th>6</th>\n",
              "      <th>7</th>\n",
              "      <th>8</th>\n",
              "      <th>9</th>\n",
              "      <th>10</th>\n",
              "      <th>11</th>\n",
              "      <th>12</th>\n",
              "      <th>13</th>\n",
              "      <th>14</th>\n",
              "      <th>15</th>\n",
              "      <th>16</th>\n",
              "      <th>17</th>\n",
              "      <th>18</th>\n",
              "      <th>19</th>\n",
              "      <th>20</th>\n",
              "    </tr>\n",
              "  </thead>\n",
              "  <tbody>\n",
              "    <tr>\n",
              "      <th>0</th>\n",
              "      <td>1</td>\n",
              "      <td>3</td>\n",
              "      <td>8</td>\n",
              "      <td>2</td>\n",
              "      <td>8</td>\n",
              "      <td>6</td>\n",
              "      <td>1</td>\n",
              "      <td>9</td>\n",
              "      <td>5</td>\n",
              "      <td>6</td>\n",
              "      <td>1</td>\n",
              "      <td>6</td>\n",
              "      <td>7</td>\n",
              "      <td>3</td>\n",
              "      <td>6</td>\n",
              "      <td>10</td>\n",
              "      <td>5</td>\n",
              "      <td>-1</td>\n",
              "      <td>7</td>\n",
              "      <td>3</td>\n",
              "      <td>5</td>\n",
              "    </tr>\n",
              "    <tr>\n",
              "      <th>1</th>\n",
              "      <td>2</td>\n",
              "      <td>10</td>\n",
              "      <td>4</td>\n",
              "      <td>7</td>\n",
              "      <td>2</td>\n",
              "      <td>10</td>\n",
              "      <td>-1</td>\n",
              "      <td>10</td>\n",
              "      <td>10</td>\n",
              "      <td>10</td>\n",
              "      <td>10</td>\n",
              "      <td>6</td>\n",
              "      <td>0</td>\n",
              "      <td>0</td>\n",
              "      <td>1</td>\n",
              "      <td>7</td>\n",
              "      <td>10</td>\n",
              "      <td>-1</td>\n",
              "      <td>10</td>\n",
              "      <td>-1</td>\n",
              "      <td>5</td>\n",
              "    </tr>\n",
              "    <tr>\n",
              "      <th>2</th>\n",
              "      <td>3</td>\n",
              "      <td>7</td>\n",
              "      <td>5</td>\n",
              "      <td>8</td>\n",
              "      <td>6</td>\n",
              "      <td>8</td>\n",
              "      <td>-1</td>\n",
              "      <td>9</td>\n",
              "      <td>6</td>\n",
              "      <td>7</td>\n",
              "      <td>7</td>\n",
              "      <td>4</td>\n",
              "      <td>5</td>\n",
              "      <td>3</td>\n",
              "      <td>3</td>\n",
              "      <td>4</td>\n",
              "      <td>6</td>\n",
              "      <td>7</td>\n",
              "      <td>10</td>\n",
              "      <td>10</td>\n",
              "      <td>-1</td>\n",
              "    </tr>\n",
              "    <tr>\n",
              "      <th>3</th>\n",
              "      <td>4</td>\n",
              "      <td>8</td>\n",
              "      <td>7</td>\n",
              "      <td>5</td>\n",
              "      <td>-1</td>\n",
              "      <td>7</td>\n",
              "      <td>5</td>\n",
              "      <td>-1</td>\n",
              "      <td>6</td>\n",
              "      <td>6</td>\n",
              "      <td>-1</td>\n",
              "      <td>6</td>\n",
              "      <td>7</td>\n",
              "      <td>10</td>\n",
              "      <td>5</td>\n",
              "      <td>7</td>\n",
              "      <td>8</td>\n",
              "      <td>8</td>\n",
              "      <td>7</td>\n",
              "      <td>5</td>\n",
              "      <td>5</td>\n",
              "    </tr>\n",
              "    <tr>\n",
              "      <th>4</th>\n",
              "      <td>5</td>\n",
              "      <td>8</td>\n",
              "      <td>9</td>\n",
              "      <td>9</td>\n",
              "      <td>8</td>\n",
              "      <td>8</td>\n",
              "      <td>8</td>\n",
              "      <td>10</td>\n",
              "      <td>8</td>\n",
              "      <td>9</td>\n",
              "      <td>8</td>\n",
              "      <td>9</td>\n",
              "      <td>10</td>\n",
              "      <td>10</td>\n",
              "      <td>9</td>\n",
              "      <td>10</td>\n",
              "      <td>-1</td>\n",
              "      <td>9</td>\n",
              "      <td>10</td>\n",
              "      <td>8</td>\n",
              "      <td>9</td>\n",
              "    </tr>\n",
              "    <tr>\n",
              "      <th>...</th>\n",
              "      <td>...</td>\n",
              "      <td>...</td>\n",
              "      <td>...</td>\n",
              "      <td>...</td>\n",
              "      <td>...</td>\n",
              "      <td>...</td>\n",
              "      <td>...</td>\n",
              "      <td>...</td>\n",
              "      <td>...</td>\n",
              "      <td>...</td>\n",
              "      <td>...</td>\n",
              "      <td>...</td>\n",
              "      <td>...</td>\n",
              "      <td>...</td>\n",
              "      <td>...</td>\n",
              "      <td>...</td>\n",
              "      <td>...</td>\n",
              "      <td>...</td>\n",
              "      <td>...</td>\n",
              "      <td>...</td>\n",
              "      <td>...</td>\n",
              "    </tr>\n",
              "    <tr>\n",
              "      <th>85</th>\n",
              "      <td>86</td>\n",
              "      <td>9</td>\n",
              "      <td>8</td>\n",
              "      <td>8</td>\n",
              "      <td>8</td>\n",
              "      <td>9</td>\n",
              "      <td>9</td>\n",
              "      <td>8</td>\n",
              "      <td>8</td>\n",
              "      <td>10</td>\n",
              "      <td>9</td>\n",
              "      <td>7</td>\n",
              "      <td>-1</td>\n",
              "      <td>10</td>\n",
              "      <td>10</td>\n",
              "      <td>10</td>\n",
              "      <td>8</td>\n",
              "      <td>-1</td>\n",
              "      <td>10</td>\n",
              "      <td>8</td>\n",
              "      <td>-1</td>\n",
              "    </tr>\n",
              "    <tr>\n",
              "      <th>86</th>\n",
              "      <td>87</td>\n",
              "      <td>0</td>\n",
              "      <td>5</td>\n",
              "      <td>2</td>\n",
              "      <td>8</td>\n",
              "      <td>2</td>\n",
              "      <td>0</td>\n",
              "      <td>5</td>\n",
              "      <td>7</td>\n",
              "      <td>8</td>\n",
              "      <td>3</td>\n",
              "      <td>1</td>\n",
              "      <td>0</td>\n",
              "      <td>0</td>\n",
              "      <td>7</td>\n",
              "      <td>8</td>\n",
              "      <td>3</td>\n",
              "      <td>1</td>\n",
              "      <td>0</td>\n",
              "      <td>0</td>\n",
              "      <td>0</td>\n",
              "    </tr>\n",
              "    <tr>\n",
              "      <th>87</th>\n",
              "      <td>88</td>\n",
              "      <td>9</td>\n",
              "      <td>10</td>\n",
              "      <td>7</td>\n",
              "      <td>6</td>\n",
              "      <td>5</td>\n",
              "      <td>0</td>\n",
              "      <td>0</td>\n",
              "      <td>8</td>\n",
              "      <td>10</td>\n",
              "      <td>0</td>\n",
              "      <td>8</td>\n",
              "      <td>0</td>\n",
              "      <td>0</td>\n",
              "      <td>0</td>\n",
              "      <td>7</td>\n",
              "      <td>8</td>\n",
              "      <td>9</td>\n",
              "      <td>7</td>\n",
              "      <td>0</td>\n",
              "      <td>8</td>\n",
              "    </tr>\n",
              "    <tr>\n",
              "      <th>88</th>\n",
              "      <td>89</td>\n",
              "      <td>0</td>\n",
              "      <td>9</td>\n",
              "      <td>0</td>\n",
              "      <td>9</td>\n",
              "      <td>0</td>\n",
              "      <td>0</td>\n",
              "      <td>9</td>\n",
              "      <td>0</td>\n",
              "      <td>0</td>\n",
              "      <td>8</td>\n",
              "      <td>0</td>\n",
              "      <td>0</td>\n",
              "      <td>0</td>\n",
              "      <td>0</td>\n",
              "      <td>-1</td>\n",
              "      <td>0</td>\n",
              "      <td>0</td>\n",
              "      <td>0</td>\n",
              "      <td>0</td>\n",
              "      <td>0</td>\n",
              "    </tr>\n",
              "    <tr>\n",
              "      <th>89</th>\n",
              "      <td>90</td>\n",
              "      <td>7</td>\n",
              "      <td>-1</td>\n",
              "      <td>1</td>\n",
              "      <td>5</td>\n",
              "      <td>7</td>\n",
              "      <td>-1</td>\n",
              "      <td>6</td>\n",
              "      <td>7</td>\n",
              "      <td>1</td>\n",
              "      <td>2</td>\n",
              "      <td>8</td>\n",
              "      <td>5</td>\n",
              "      <td>8</td>\n",
              "      <td>3</td>\n",
              "      <td>7</td>\n",
              "      <td>3</td>\n",
              "      <td>9</td>\n",
              "      <td>9</td>\n",
              "      <td>5</td>\n",
              "      <td>7</td>\n",
              "    </tr>\n",
              "  </tbody>\n",
              "</table>\n",
              "<p>90 rows × 21 columns</p>\n",
              "</div>"
            ],
            "text/plain": [
              "    ID   1   2  3  4   5  6   7   8   9  ...  11  12  13  14  15  16  17  18  19  20\n",
              "0    1   3   8  2  8   6  1   9   5   6  ...   6   7   3   6  10   5  -1   7   3   5\n",
              "1    2  10   4  7  2  10 -1  10  10  10  ...   6   0   0   1   7  10  -1  10  -1   5\n",
              "2    3   7   5  8  6   8 -1   9   6   7  ...   4   5   3   3   4   6   7  10  10  -1\n",
              "3    4   8   7  5 -1   7  5  -1   6   6  ...   6   7  10   5   7   8   8   7   5   5\n",
              "4    5   8   9  9  8   8  8  10   8   9  ...   9  10  10   9  10  -1   9  10   8   9\n",
              "..  ..  ..  .. .. ..  .. ..  ..  ..  ..  ...  ..  ..  ..  ..  ..  ..  ..  ..  ..  ..\n",
              "85  86   9   8  8  8   9  9   8   8  10  ...   7  -1  10  10  10   8  -1  10   8  -1\n",
              "86  87   0   5  2  8   2  0   5   7   8  ...   1   0   0   7   8   3   1   0   0   0\n",
              "87  88   9  10  7  6   5  0   0   8  10  ...   8   0   0   0   7   8   9   7   0   8\n",
              "88  89   0   9  0  9   0  0   9   0   0  ...   0   0   0   0  -1   0   0   0   0   0\n",
              "89  90   7  -1  1  5   7 -1   6   7   1  ...   8   5   8   3   7   3   9   9   5   7\n",
              "\n",
              "[90 rows x 21 columns]"
            ]
          },
          "metadata": {},
          "execution_count": 195
        }
      ]
    },
    {
      "cell_type": "code",
      "source": [
        "# Cosine similarity\n",
        "def rating_get_topN_user(user,mvID,topN = 15):\n",
        "  df = ratings[ratings[str(mvID)] != -1].set_index('ID')\n",
        "  urs = df.index.to_list()\n",
        "  scores = [(rating_cos_sim(user, userID),userID) for userID in urs if userID != user] \n",
        "  scores.sort(reverse = True)\n",
        "  return scores[:topN]\n",
        "\n",
        "def notop_rating_get_topN_user(user,mvID):\n",
        "  df = ratings[ratings[str(mvID)] != -1].set_index('ID')\n",
        "  urs = df.index.to_list()\n",
        "  scores = [(rating_cos_sim(user, userID),userID) for userID in urs if userID != user] \n",
        "  #scores.sort(reverse = True)\n",
        "  return scores\n",
        "\n",
        "def rating_get_rating(userid, movieid):\n",
        "  return(ratings.set_index('ID').loc[userid,str(movieid)])\n"
      ],
      "metadata": {
        "id": "Xpu5MkHbzTtA"
      },
      "execution_count": null,
      "outputs": []
    },
    {
      "cell_type": "code",
      "source": [
        "def rating_predict_rating(user, mvID, topN = 15):\n",
        "  sum_ = 0\n",
        "  sum_sim = 0\n",
        "  sim_users = notop_rating_get_topN_user(user,mvID)\n",
        "  for score,userID in sim_users:\n",
        "    sum_ += score\n",
        "    sum_sim += score*get_rating(userID,mvID)\n",
        "  rate = (1/sum_)*sum_sim\n",
        "  return rate"
      ],
      "metadata": {
        "id": "Mqbw3CZ1yfZy"
      },
      "execution_count": null,
      "outputs": []
    },
    {
      "cell_type": "code",
      "source": [
        "df_true = pd.read_csv('data/true_historical_ratings.csv')"
      ],
      "metadata": {
        "id": "zGRtvuVL1fsY"
      },
      "execution_count": null,
      "outputs": []
    },
    {
      "cell_type": "code",
      "source": [
        "pred = []\n",
        "true = []\n",
        "u_id = []\n",
        "mv_id= []\n",
        "user = users.copy().set_index('ID')\n",
        "for i in range(len(df_true)):\n",
        "  r = rating_predict_rating(df_true.user_ID[i],df_true.mv_ID[i])\n",
        "  pred.append(r)\n",
        "  true.append(df_true.Rating[i])\n",
        "  u_id.append(df_true.user_ID[i])\n",
        "  mv_id.append(df_true.mv_ID[i])"
      ],
      "metadata": {
        "id": "lbx9hJRd21an"
      },
      "execution_count": null,
      "outputs": []
    },
    {
      "cell_type": "code",
      "source": [
        "result = pd.DataFrame()\n",
        "result['UserID']  = u_id\n",
        "result['MvID']    = mv_id\n",
        "result['True']    = true\n",
        "result['Pred']    = pred"
      ],
      "metadata": {
        "id": "GG0W0Hc03PGc"
      },
      "execution_count": null,
      "outputs": []
    },
    {
      "cell_type": "code",
      "source": [
        "# Evaluating\n",
        "MAE_ratings = MAE(true, pred)\n",
        "print('MAE using Ratings + Movie preferences rating predict: ', MAE_ratings)"
      ],
      "metadata": {
        "colab": {
          "base_uri": "https://localhost:8080/"
        },
        "id": "QPK1AN2m6njW",
        "outputId": "a63ea04e-0814-4b2e-f207-d6214c1ad185"
      },
      "execution_count": null,
      "outputs": [
        {
          "output_type": "stream",
          "name": "stdout",
          "text": [
            "MAE using Ratings + Movie preferences rating predict:  2.155906610764849\n"
          ]
        }
      ]
    },
    {
      "cell_type": "markdown",
      "source": [
        "## MBTI + Rating + MV references"
      ],
      "metadata": {
        "id": "VvSu32yU6D5E"
      }
    },
    {
      "cell_type": "code",
      "source": [
        "train = df_train.drop('off_mbti', axis = 1)"
      ],
      "metadata": {
        "id": "IHZfrLSk4-nO"
      },
      "execution_count": null,
      "outputs": []
    },
    {
      "cell_type": "code",
      "source": [
        "def aggregate_cos_sim(user1,user2):\n",
        "  cmmn_mv = [] #movies in common\n",
        "  for movieid in train.columns[0:20]:\n",
        "    if aggregate_get_rating(user1, movieid) !=-1 and aggregate_get_rating(user2,movieid) != -1 and aggregate_get_rating(user1, movieid) !=0 and aggregate_get_rating(user2,movieid) != 0:\n",
        "      cmmn_mv.append(movieid)\n",
        "  if len(cmmn_mv) == 0:\n",
        "      return 0\n",
        "  \n",
        "  _user1 = train.drop(train.columns[0:20], axis = 1).loc[user1,:].to_list()\n",
        "  rating_user1 = np.array(_user1 + [aggregate_get_rating(user1, movieid) for movieid in cmmn_mv] ).reshape(1, -1) #vertical -> horizontal\n",
        "\n",
        "  _user2 = train.drop(train.columns[0:20], axis = 1).loc[user2,:].to_list()\n",
        "\n",
        "  rating_user2 = np.array(_user2 + [aggregate_get_rating(user2, movieid) for movieid in cmmn_mv]).reshape(1, -1)\n",
        "\n",
        "  score = cosine_similarity(rating_user1, rating_user2)\n",
        "\n",
        "  return score[0][0]"
      ],
      "metadata": {
        "id": "Rf_XQrqe60Qq"
      },
      "execution_count": null,
      "outputs": []
    },
    {
      "cell_type": "code",
      "source": [
        "# Cosine similarity\n",
        "\n",
        "def aggregate_get_topN_user(user,mvID,topN = 15):\n",
        "  df = df_train[df_train[str(mvID)] != -1]\n",
        "  urs = df_train.index.to_list()\n",
        "  scores = [(aggregate_cos_sim(user, userID),userID) for userID in urs if userID != user] \n",
        "  scores.sort(reverse = True)\n",
        "  return scores[:topN]\n",
        "\n",
        "def aggregate_get_rating(userid, movieid):\n",
        "  return(train.loc[userid,str(movieid)])\n"
      ],
      "metadata": {
        "id": "GnOgZIKH7ccX"
      },
      "execution_count": null,
      "outputs": []
    },
    {
      "cell_type": "code",
      "source": [
        "def aggregate_predict_rating(user, mvID, topN = 15):\n",
        "  sum_ = 0\n",
        "  sum_sim = 0\n",
        "  sim_users = aggregate_get_topN_user(user,mvID)\n",
        "  count0 = 0\n",
        "  for score,userID in sim_users:\n",
        "    sum_ += score\n",
        "    sum_sim += score*get_rating(userID,mvID)\n",
        "    if score == 0 : \n",
        "      count0 += 1\n",
        "  if count0/topN >= 0.70:\n",
        "    return 0\n",
        "  else:\n",
        "    rate = (1/sum_)*sum_sim\n",
        "    return rate"
      ],
      "metadata": {
        "id": "z2Ixqi-38m-n"
      },
      "execution_count": null,
      "outputs": []
    },
    {
      "cell_type": "code",
      "source": [
        "pred = []\n",
        "true = []\n",
        "u_id = []\n",
        "mv_id= []\n",
        "user = users.copy().set_index('ID')\n",
        "for i in range(len(df_true)):\n",
        "  r = aggregate_predict_rating(df_true.user_ID[i],df_true.mv_ID[i])\n",
        "  pred.append(r)\n",
        "  true.append(df_true.Rating[i])\n",
        "  u_id.append(df_true.user_ID[i])\n",
        "  mv_id.append(df_true.mv_ID[i])"
      ],
      "metadata": {
        "id": "ZRx_HZek7faK"
      },
      "execution_count": null,
      "outputs": []
    },
    {
      "cell_type": "code",
      "source": [
        "result = pd.DataFrame()\n",
        "result['UserID']  = u_id\n",
        "result['MvID']    = mv_id\n",
        "result['True']    = true\n",
        "result['Pred']    = pred"
      ],
      "metadata": {
        "id": "ysIeRpU-8X6E"
      },
      "execution_count": null,
      "outputs": []
    },
    {
      "cell_type": "code",
      "source": [
        "# Evaluating\n",
        "MAE_aggregate = MAE(true, pred)\n",
        "print('MAE using Ratings + MBTI preferences rating predict: ', MAE_aggregate)"
      ],
      "metadata": {
        "colab": {
          "base_uri": "https://localhost:8080/"
        },
        "id": "t_HLviSjM3IZ",
        "outputId": "f59209d2-f2a2-467b-fe45-4f72b69eace8"
      },
      "execution_count": null,
      "outputs": [
        {
          "output_type": "stream",
          "name": "stdout",
          "text": [
            "MAE using Ratings + MBTI preferences rating predict:  2.0849980418899756\n"
          ]
        }
      ]
    },
    {
      "cell_type": "markdown",
      "source": [
        "# Cold start"
      ],
      "metadata": {
        "id": "_q9c3jXq-jAy"
      }
    },
    {
      "cell_type": "code",
      "source": [
        "train= pd.read_csv('data/cold_start_train.csv')\n",
        "test = pd.read_csv('data/cold_start_test.csv')"
      ],
      "metadata": {
        "id": "nJgJGmVZTcvz"
      },
      "execution_count": null,
      "outputs": []
    },
    {
      "cell_type": "code",
      "source": [
        "train.shape"
      ],
      "metadata": {
        "colab": {
          "base_uri": "https://localhost:8080/"
        },
        "id": "C_reHDazeUQM",
        "outputId": "36229119-3a90-4314-c2b2-f8bc3df64c28"
      },
      "execution_count": null,
      "outputs": [
        {
          "output_type": "execute_result",
          "data": {
            "text/plain": [
              "(81, 97)"
            ]
          },
          "metadata": {},
          "execution_count": 362
        }
      ]
    },
    {
      "cell_type": "code",
      "source": [
        "test.shape"
      ],
      "metadata": {
        "colab": {
          "base_uri": "https://localhost:8080/"
        },
        "id": "v9ZCcaP4cCwl",
        "outputId": "a19a5a79-d568-44e7-ce04-91f547a9a8d4"
      },
      "execution_count": null,
      "outputs": [
        {
          "output_type": "execute_result",
          "data": {
            "text/plain": [
              "(9, 97)"
            ]
          },
          "metadata": {},
          "execution_count": 363
        }
      ]
    },
    {
      "cell_type": "code",
      "source": [
        "train_sim = train.set_index('ID').iloc[:,21:]\n",
        "test_sim = test.set_index('ID').iloc[:,21:]"
      ],
      "metadata": {
        "id": "ZmcndUO2_O-Y"
      },
      "execution_count": null,
      "outputs": []
    },
    {
      "cell_type": "code",
      "source": [
        "train = train.set_index('ID')\n",
        "test = test.set_index('ID')"
      ],
      "metadata": {
        "id": "gK4Xa4RwxpX3"
      },
      "execution_count": null,
      "outputs": []
    },
    {
      "cell_type": "code",
      "source": [
        "# Cosine similarity\n",
        "def cs_cos_sim(user1_id, user2_id):\n",
        "  user1 = test_sim.loc[user1_id,:].values.reshape(1, -1)\n",
        "  user2 = train_sim.loc[user2_id,:].values.reshape(1, -1)\n",
        "  sim = cosine_similarity(user1,user2)[0][0]\n",
        "  return sim\n",
        "\n",
        "#Không lấy topN do dữ liệu nhỏ\n",
        "def cs_get_topN_user(user):\n",
        "  # Ignore ratings == 0\n",
        "  mbti_user = test.loc[user,'off_mbti']\n",
        "  sim = train[(train.off_mbti == mbti_user)]\n",
        "  urs = sim.index.to_list()\n",
        "  scores = [(cs_cos_sim(user, userID),userID) for userID in urs if userID != user] \n",
        "  return scores\n",
        "\n",
        "def cs_get_rating(userid, movieid):\n",
        "  return(train.loc[userid,str(movieid)])\n",
        "\n",
        "\n",
        "def cs_predict_rating(user):\n",
        "  ratings = []\n",
        "  sim_users = cs_get_topN_user(user)\n",
        "  if len(sim_users) != 0:\n",
        "    for mvID in train.columns[1:21]:\n",
        "      sum_ = 0\n",
        "      sum_sim = 0\n",
        "      for score,userID in sim_users:\n",
        "        if cs_get_rating(userID, mvID) != 0 :\n",
        "          sum_ += score\n",
        "          sum_sim += score*cs_get_rating(userID, mvID)\n",
        "      if sum_ == 0:\n",
        "        ratings.append('nan')\n",
        "      else:\n",
        "        rate = (1/sum_)*sum_sim\n",
        "        ratings.append(rate)\n",
        "  else:\n",
        "    ratings = ['nan' for i in range(20)]\n",
        "  return ratings"
      ],
      "metadata": {
        "id": "9qqBGtrSUo7z"
      },
      "execution_count": null,
      "outputs": []
    },
    {
      "cell_type": "code",
      "source": [
        "pred = []\n",
        "true = []\n",
        "u_id = []\n",
        "mv_id= []\n",
        "user = test.copy()\n",
        "for usr in user.index.to_list():\n",
        "  r = cs_predict_rating(usr)\n",
        "  pred += r\n",
        "  true += list(user.loc[usr,user.columns[1:21].to_list()].values)\n",
        "  u_id += [usr for i in range(20)]\n",
        "  mv_id += user.columns[1:21].to_list()"
      ],
      "metadata": {
        "id": "mO5bIyLrH6Ky"
      },
      "execution_count": null,
      "outputs": []
    },
    {
      "cell_type": "code",
      "source": [
        "result = pd.DataFrame()\n",
        "result['UserID']  = u_id\n",
        "result['MvID']    = mv_id\n",
        "result['True']    = true\n",
        "result['Pred']    = pred\n",
        "result = result[result['True'] != 0]"
      ],
      "metadata": {
        "id": "arGG22Vv_O-b"
      },
      "execution_count": null,
      "outputs": []
    },
    {
      "cell_type": "code",
      "source": [
        "# Evaluating\n",
        "true = result['True']\n",
        "pred = result.Pred\n",
        "MAE_cold_start = MAE(true, pred)\n",
        "print('MAE using MBTI+ in4 predicts rating: ', MAE_cold_start)"
      ],
      "metadata": {
        "colab": {
          "base_uri": "https://localhost:8080/"
        },
        "outputId": "6bd7089a-92ae-49d2-8f4f-766e3e98009f",
        "id": "1H5Io39V_O-b"
      },
      "execution_count": null,
      "outputs": [
        {
          "output_type": "stream",
          "name": "stdout",
          "text": [
            "MAE using MBTI+ in4 predicts rating:  1.7997126272343473\n"
          ]
        }
      ]
    }
  ]
}